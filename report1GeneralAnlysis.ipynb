{
 "cells": [
  {
   "cell_type": "markdown",
   "metadata": {},
   "source": [
    "## Exploring the differences between a skip-gram and a continuous bag of words model in relation to the Game of Thrones text\n",
    "In this notebook I will explore the difference in a continuous bag of words (CBOW) and a skip-gram model. The data I will be exploring is the text of all 5 Game of Thrones books. I found this data from the link https://www.kaggle.com/muhammedfathi/game-of-thrones-book-files/code.\n",
    "\n",
    "I should note that while I have not read these books, I have watched every episode of the HBO Game of Thrones series and throughout this assignment I tried to do as much research to find the differences between the text and show so that I do not make false assumptions between the story line and the way it is written. Some of my analysis is dependent on the syntactical context of how characters are referred to or how some characters speak. I tried to do my best to understand which characters are referred to in certain ways but I cant promise that the context from which I analyze this is perfect.\n",
    "\n"
   ]
  },
  {
   "cell_type": "code",
   "execution_count": 1,
   "metadata": {},
   "outputs": [],
   "source": [
    "from time import time \n",
    "import collections\n",
    "import pandas as pd\n",
    "import matplotlib.pyplot as plt\n",
    "import numpy as np\n",
    "from nltk.corpus import stopwords\n",
    "%matplotlib inline\n",
    "from nltk.tokenize import sent_tokenize, word_tokenize \n",
    "import warnings \n",
    "\n",
    "warnings.filterwarnings(action = 'ignore') \n",
    "  \n",
    "import gensim \n",
    "from gensim.models import Word2Vec "
   ]
  },
  {
   "cell_type": "code",
   "execution_count": 130,
   "metadata": {},
   "outputs": [],
   "source": [
    "# data downloaded from https://www.kaggle.com/muhammedfathi/game-of-thrones-book-files/code\n",
    "book1 = open(\"----file location for got1.txt---\",encoding=\"utf8\") \n",
    "s1 = book1.read() \n",
    "book2 = open(\"----file location for got2.txt---\",encoding=\"utf8\") \n",
    "s2 = book2.read() \n",
    "book3 = open(\"----file location for got3.txt---\",encoding=\"utf8\") \n",
    "s3 = book3.read() \n",
    "book4 = open(\"----file location for got4.txt---\",encoding=\"utf8\") \n",
    "s4 = book4.read() \n",
    "book5 = open(\"----file location for got5.txt---\",encoding=\"utf8\") \n",
    "s5 = book5.read() \n",
    "s = s1+s2+s3+s4+s5\n",
    "j = s.replace(\"\\n\", \" \") \n",
    "data = [] \n",
    "wordcount = {}\n",
    "\n",
    "j = j.replace(\",\",\"\")\n",
    "j = j.replace(\":\",\"\")\n",
    "j = j.replace(\"\",\"\")\n",
    "j = j.replace('“',\"\")\n",
    "j = j.replace('’',\"\")\n",
    "j = j.replace('“',\"\")\n",
    "j = j.replace('”',\"\")\n",
    "j = j.replace(\"!\",\"\")\n",
    "j = j.replace(\"?\",\"\")\n",
    "j = j.replace(\";\",\"\")\n",
    "j = j.replace(\",\",\"\")\n",
    "j = j.replace(\"â€œ\",\"\")\n",
    "j = j.replace(\"â€˜\",\"\")\n",
    "j = j.replace(\"-\",\"\")\n",
    "\n",
    "# iterate through each sentence in the file \n",
    "for i in sent_tokenize(j): \n",
    "    temp = [] \n",
    "\n",
    "    # tokenize the sentence into words \n",
    "    for ind,j in enumerate(word_tokenize(i)): \n",
    "        j = j.lower() \n",
    "        if(j != \"\" and j != \".\"):\n",
    "            if j not in wordcount:\n",
    "                wordcount[j] = 1\n",
    "            else:\n",
    "                wordcount[j] += 1\n",
    "            temp.append(j)\n",
    "    data.append(temp)"
   ]
  },
  {
   "cell_type": "markdown",
   "metadata": {},
   "source": [
    "## Some data exploration to see if my parsing/cleaning data was effective\n",
    "I wanted to keep track of the number of words in the dataset so I could refer back to them later. To make sure my method of cleaning the data was effective I wanted to see the most common words to make sure everything but the letters were thrown out."
   ]
  },
  {
   "cell_type": "code",
   "execution_count": 131,
   "metadata": {},
   "outputs": [
    {
     "name": "stdout",
     "output_type": "stream",
     "text": [
      "How many most common words to print: 30\n",
      "\n",
      "The 30 most common words are as follows\n",
      "\n",
      "the :  104524\n",
      "and :  52428\n",
      "a :  40639\n",
      "to :  40134\n",
      "of :  37892\n",
      "he :  27826\n",
      "his :  26538\n",
      "was :  22096\n",
      "you :  19329\n",
      "her :  19184\n",
      "i :  19063\n",
      "in :  18157\n",
      "had :  17039\n",
      "it :  16401\n",
      "that :  15906\n",
      "as :  15171\n",
      "she :  14853\n",
      "with :  13313\n",
      "him :  12500\n",
      "not :  12285\n",
      "but :  11299\n",
      "for :  10962\n",
      "is :  9207\n",
      "they :  9010\n",
      "on :  8996\n",
      "at :  8854\n",
      "said :  8749\n",
      "my :  8617\n",
      "have :  8596\n",
      "be :  8070\n"
     ]
    },
    {
     "data": {
      "text/plain": [
       "<AxesSubplot:xlabel='Word'>"
      ]
     },
     "execution_count": 131,
     "metadata": {},
     "output_type": "execute_result"
    },
    {
     "data": {
      "image/png": "[encoded data removed]",
      "text/plain": [
       "<Figure size 432x288 with 1 Axes>"
      ]
     },
     "metadata": {},
     "output_type": "display_data"
    }
   ],
   "source": [
    "n_print = int(input(\"How many most common words to print: \"))\n",
    "print(\"\\nThe {} most common words are as follows\\n\".format(n_print))\n",
    "word_counter = collections.Counter(wordcount)\n",
    "# print(wordcount)\n",
    "for word, count in word_counter.most_common(n_print):\n",
    "    print(word, \": \", count)\n",
    "\n",
    "#create plot\n",
    "lst = word_counter.most_common(n_print)\n",
    "df = pd.DataFrame(lst, columns = ['Word', 'Count'])\n",
    "df.plot.bar(x='Word',y='Count')"
   ]
  },
  {
   "cell_type": "markdown",
   "metadata": {},
   "source": [
    "## Initialize/Train Models\n",
    "Using the gensim library with the word2vec embeddings and parameters equal to those used in https://www.kaggle.com/pierremegret/gensim-word2vec-tutorial"
   ]
  },
  {
   "cell_type": "code",
   "execution_count": 134,
   "metadata": {},
   "outputs": [],
   "source": [
    "w2v_CBOW = Word2Vec(min_count=20,\n",
    "                     window=2,\n",
    "                     size=300,\n",
    "                     sample=6e-5, \n",
    "                     alpha=0.03, \n",
    "                     min_alpha=0.0007, \n",
    "                     negative=20)\n",
    "w2v_SG = Word2Vec(min_count=20,\n",
    "                     window=2,\n",
    "                     size=300,\n",
    "                     sample=6e-5, \n",
    "                     alpha=0.03, \n",
    "                     min_alpha=0.0007, \n",
    "                     sg = 1,\n",
    "                     negative=20)"
   ]
  },
  {
   "cell_type": "markdown",
   "metadata": {},
   "source": [
    "I used the idea I found in https://www.kaggle.com/pierremegret/gensim-word2vec-tutorial to time how long it took to build the vocab and train for the skip-gram and CBOW models"
   ]
  },
  {
   "cell_type": "code",
   "execution_count": 135,
   "metadata": {},
   "outputs": [
    {
     "name": "stdout",
     "output_type": "stream",
     "text": [
      "Time to build vocab: 0.02 mins\n"
     ]
    }
   ],
   "source": [
    "t = time()\n",
    "\n",
    "w2v_SG.build_vocab(data, progress_per=10000)\n",
    "\n",
    "print('Time to build vocab: {} mins'.format(round((time() - t) / 60, 2)))"
   ]
  },
  {
   "cell_type": "code",
   "execution_count": 136,
   "metadata": {},
   "outputs": [
    {
     "name": "stdout",
     "output_type": "stream",
     "text": [
      "Time to build vocab: 0.02 mins\n"
     ]
    }
   ],
   "source": [
    "t = time()\n",
    "\n",
    "w2v_CBOW.build_vocab(data, progress_per=10000)\n",
    "\n",
    "print('Time to build vocab: {} mins'.format(round((time() - t) / 60, 2)))"
   ]
  },
  {
   "cell_type": "code",
   "execution_count": 137,
   "metadata": {},
   "outputs": [
    {
     "name": "stdout",
     "output_type": "stream",
     "text": [
      "Time to train the model: 1.4 mins\n"
     ]
    }
   ],
   "source": [
    "t = time()\n",
    "\n",
    "w2v_SG.train(data, total_examples=w2v_SG.corpus_count, epochs=30)\n",
    "\n",
    "print('Time to train the model: {} mins'.format(round((time() - t) / 60, 2)))"
   ]
  },
  {
   "cell_type": "code",
   "execution_count": 138,
   "metadata": {},
   "outputs": [
    {
     "name": "stdout",
     "output_type": "stream",
     "text": [
      "Time to train the model: 0.73 mins\n"
     ]
    }
   ],
   "source": [
    "t = time()\n",
    "\n",
    "w2v_CBOW.train(data, total_examples=w2v_CBOW.corpus_count, epochs=30)\n",
    "\n",
    "print('Time to train the model: {} mins'.format(round((time() - t) / 60, 2)))"
   ]
  },
  {
   "cell_type": "markdown",
   "metadata": {},
   "source": [
    "On my machine, the training for the skip-gram model took about twice as long as the training for the CBOW model. The difference here is to be expected because we know the CBOW model is usually several times faster than the skip-gram model."
   ]
  },
  {
   "cell_type": "code",
   "execution_count": 140,
   "metadata": {},
   "outputs": [],
   "source": [
    "#Make model more memory efficient\n",
    "w2v_CBOW.init_sims(replace=True)\n",
    "w2v_SG.init_sims(replace=True)"
   ]
  },
  {
   "cell_type": "markdown",
   "metadata": {},
   "source": [
    "## Analyzing model\n",
    "Now that the model is trained, it is time to see what it an do!"
   ]
  },
  {
   "cell_type": "markdown",
   "metadata": {},
   "source": [
    "In Game of Thrones, there is a constant battle for the thrones, as the name suggests. Many different characters claim to be king or queen of certain land and territory. Because of this, I am very interested to see what relationships the model claims to be between words \"king\"/\"queen\" and the multitude of characters that assume these roles throughout the arc of the story. "
   ]
  },
  {
   "cell_type": "code",
   "execution_count": 141,
   "metadata": {},
   "outputs": [
    {
     "data": {
      "text/plain": [
       "[('ii', 0.5394653677940369),\n",
       " ('rightful', 0.5054821968078613),\n",
       " ('baratheon', 0.5028559565544128),\n",
       " ('rebel', 0.49412035942077637),\n",
       " ('robert', 0.47612956166267395),\n",
       " ('traitor', 0.47539034485816956),\n",
       " ('grandson', 0.4702787697315216),\n",
       " ('usurper', 0.47010594606399536),\n",
       " ('jaehaerys', 0.46397897601127625),\n",
       " ('rebellion', 0.46223005652427673),\n",
       " ('cleon', 0.46095746755599976),\n",
       " ('targaryens', 0.45676282048225403),\n",
       " ('beloved', 0.44750896096229553),\n",
       " ('regent', 0.44512006640434265),\n",
       " ('daeron', 0.4438960552215576),\n",
       " ('renly', 0.4435766339302063),\n",
       " ('lawful', 0.4434812068939209),\n",
       " ('joffrey', 0.4355320930480957),\n",
       " ('stannis', 0.43338051438331604),\n",
       " ('trueborn', 0.4129958152770996)]"
      ]
     },
     "execution_count": 141,
     "metadata": {},
     "output_type": "execute_result"
    }
   ],
   "source": [
    "w2v_CBOW.wv.most_similar(\"king\", topn=20)"
   ]
  },
  {
   "cell_type": "code",
   "execution_count": 142,
   "metadata": {},
   "outputs": [
    {
     "data": {
      "text/plain": [
       "[('ii', 0.4935241937637329),\n",
       " ('queen', 0.4867549538612366),\n",
       " ('stannis', 0.4344838261604309),\n",
       " ('father', 0.4286800026893616),\n",
       " ('grandson', 0.42263472080230713),\n",
       " ('he', 0.42135295271873474),\n",
       " ('lawful', 0.4212566018104553),\n",
       " ('joffrey', 0.41398748755455017),\n",
       " ('the', 0.4112287759780884),\n",
       " ('jaehaerys', 0.4110495448112488),\n",
       " ('rebel', 0.4105033278465271),\n",
       " ('rightful', 0.4102800786495209),\n",
       " ('regent', 0.4101627767086029),\n",
       " ('cersei', 0.40856239199638367),\n",
       " ('cleon', 0.40281951427459717),\n",
       " ('homage', 0.4013349115848541),\n",
       " ('son', 0.3998880386352539),\n",
       " ('declare', 0.3994368314743042),\n",
       " ('brother', 0.399265855550766),\n",
       " ('kings', 0.39889001846313477)]"
      ]
     },
     "execution_count": 142,
     "metadata": {},
     "output_type": "execute_result"
    }
   ],
   "source": [
    "w2v_SG.wv.most_similar(\"king\", topn=20)"
   ]
  },
  {
   "cell_type": "markdown",
   "metadata": {},
   "source": [
    "After running the two cells above, there is not an aparent difference in the type of words that the two models claim to be similar to \"king\" so more analysis is needed."
   ]
  },
  {
   "cell_type": "markdown",
   "metadata": {},
   "source": [
    "A useful side note: The word \"ii\" refers the meaning of \"junior\" as in \"King Aerys II\""
   ]
  },
  {
   "cell_type": "markdown",
   "metadata": {},
   "source": [
    "## Count for most common words by model\n",
    "Perhaps if I looked at the counts for the top 20 similar words to \"king\" in each model I could find a meaningful insight"
   ]
  },
  {
   "cell_type": "code",
   "execution_count": 145,
   "metadata": {},
   "outputs": [
    {
     "name": "stdout",
     "output_type": "stream",
     "text": [
      "Count for ii : 30\n",
      "Count for rightful : 69\n",
      "Count for baratheon : 359\n",
      "Count for rebel : 23\n",
      "Count for robert : 928\n",
      "Count for traitor : 100\n",
      "Count for grandson : 27\n",
      "Count for usurper : 62\n",
      "Count for jaehaerys : 28\n",
      "Count for rebellion : 75\n",
      "Count for cleon : 46\n",
      "Count for targaryens : 48\n",
      "Count for beloved : 42\n",
      "Count for regent : 53\n",
      "Count for daeron : 28\n",
      "Count for renly : 456\n",
      "Count for lawful : 24\n",
      "Count for joffrey : 729\n",
      "Count for stannis : 1132\n",
      "Count for trueborn : 60\n",
      "Total sum of words above: 4319\n"
     ]
    }
   ],
   "source": [
    "#CBOW model\n",
    "sum = 0\n",
    "for i in [j for j in w2v_CBOW.wv.most_similar(\"king\", topn=20)]:\n",
    "    print(\"Count for\",i[0],\":\", word_counter[i[0]])\n",
    "    sum+=word_counter[i[0]]\n",
    "print(\"Total sum of words above:\",sum)"
   ]
  },
  {
   "cell_type": "code",
   "execution_count": 148,
   "metadata": {},
   "outputs": [
    {
     "name": "stdout",
     "output_type": "stream",
     "text": [
      "Count for ii : 30\n",
      "Count for queen : 1646\n",
      "Count for stannis : 1132\n",
      "Count for father : 2157\n",
      "Count for grandson : 27\n",
      "Count for he : 27826\n",
      "Count for lawful : 24\n",
      "Count for joffrey : 729\n",
      "Count for the : 104524\n",
      "Count for jaehaerys : 28\n",
      "Count for rebel : 23\n",
      "Count for rightful : 69\n",
      "Count for regent : 53\n",
      "Count for cersei : 1133\n",
      "Count for cleon : 46\n",
      "Count for homage : 27\n",
      "Count for son : 1682\n",
      "Count for declare : 22\n",
      "Count for brother : 1734\n",
      "Count for kings : 1623\n",
      "Total sum of words above: 144535\n"
     ]
    }
   ],
   "source": [
    "#skip-gram model\n",
    "sum = 0\n",
    "for i in [j for j in w2v_SG.wv.most_similar(\"king\", topn=20)]:\n",
    "    print(\"Count for\",i[0],\":\", word_counter[i[0]])\n",
    "    sum+=word_counter[i[0]]\n",
    "print(\"Total sum of words above:\",sum)"
   ]
  },
  {
   "cell_type": "markdown",
   "metadata": {},
   "source": [
    "While the count will very as you change the number of epochs, one pattern I found throughout is that the total sum of the number of words is usually far greater for the skip gram model because of the inclusion of words such as \"he\" and \"the\". Since these are words with incredibly high frequencies of occurance, the count will obviously be higher for the skip-gram model."
   ]
  },
  {
   "cell_type": "markdown",
   "metadata": {},
   "source": [
    "## Finding similarity between paired words\n",
    "In the following section I will further explore the way in which these two models relate words through the use of the cosine-similarity distance."
   ]
  },
  {
   "cell_type": "code",
   "execution_count": 149,
   "metadata": {},
   "outputs": [
    {
     "data": {
      "text/html": [
       "<div>\n",
       "<style scoped>\n",
       "    .dataframe tbody tr th:only-of-type {\n",
       "        vertical-align: middle;\n",
       "    }\n",
       "\n",
       "    .dataframe tbody tr th {\n",
       "        vertical-align: top;\n",
       "    }\n",
       "\n",
       "    .dataframe thead th {\n",
       "        text-align: right;\n",
       "    }\n",
       "</style>\n",
       "<table border=\"1\" class=\"dataframe\">\n",
       "  <thead>\n",
       "    <tr style=\"text-align: right;\">\n",
       "      <th></th>\n",
       "      <th>word1</th>\n",
       "      <th>word2</th>\n",
       "      <th>word_relationship</th>\n",
       "      <th>CBOW_score</th>\n",
       "      <th>SG_score</th>\n",
       "    </tr>\n",
       "  </thead>\n",
       "  <tbody>\n",
       "    <tr>\n",
       "      <th>0</th>\n",
       "      <td>renly</td>\n",
       "      <td>king</td>\n",
       "      <td>name to king</td>\n",
       "      <td>0.443577</td>\n",
       "      <td>0.306462</td>\n",
       "    </tr>\n",
       "    <tr>\n",
       "      <th>1</th>\n",
       "      <td>ned</td>\n",
       "      <td>king</td>\n",
       "      <td>name to king</td>\n",
       "      <td>0.212573</td>\n",
       "      <td>0.293069</td>\n",
       "    </tr>\n",
       "    <tr>\n",
       "      <th>2</th>\n",
       "      <td>robert</td>\n",
       "      <td>king</td>\n",
       "      <td>name to king</td>\n",
       "      <td>0.476130</td>\n",
       "      <td>0.389440</td>\n",
       "    </tr>\n",
       "    <tr>\n",
       "      <th>3</th>\n",
       "      <td>jon</td>\n",
       "      <td>king</td>\n",
       "      <td>name to king</td>\n",
       "      <td>0.048377</td>\n",
       "      <td>0.231653</td>\n",
       "    </tr>\n",
       "    <tr>\n",
       "      <th>4</th>\n",
       "      <td>tommen</td>\n",
       "      <td>king</td>\n",
       "      <td>name to king</td>\n",
       "      <td>0.351196</td>\n",
       "      <td>0.314991</td>\n",
       "    </tr>\n",
       "    <tr>\n",
       "      <th>5</th>\n",
       "      <td>stannis</td>\n",
       "      <td>king</td>\n",
       "      <td>name to king</td>\n",
       "      <td>0.433380</td>\n",
       "      <td>0.434484</td>\n",
       "    </tr>\n",
       "    <tr>\n",
       "      <th>6</th>\n",
       "      <td>balon</td>\n",
       "      <td>king</td>\n",
       "      <td>name to king</td>\n",
       "      <td>0.204712</td>\n",
       "      <td>0.316766</td>\n",
       "    </tr>\n",
       "    <tr>\n",
       "      <th>7</th>\n",
       "      <td>viserys</td>\n",
       "      <td>king</td>\n",
       "      <td>name to king</td>\n",
       "      <td>0.204398</td>\n",
       "      <td>0.245253</td>\n",
       "    </tr>\n",
       "    <tr>\n",
       "      <th>8</th>\n",
       "      <td>joffrey</td>\n",
       "      <td>king</td>\n",
       "      <td>name to king</td>\n",
       "      <td>0.435532</td>\n",
       "      <td>0.413987</td>\n",
       "    </tr>\n",
       "    <tr>\n",
       "      <th>9</th>\n",
       "      <td>aerys</td>\n",
       "      <td>king</td>\n",
       "      <td>name to king</td>\n",
       "      <td>0.406478</td>\n",
       "      <td>0.245778</td>\n",
       "    </tr>\n",
       "    <tr>\n",
       "      <th>10</th>\n",
       "      <td>cersei</td>\n",
       "      <td>queen</td>\n",
       "      <td>name to queen</td>\n",
       "      <td>0.405532</td>\n",
       "      <td>0.481459</td>\n",
       "    </tr>\n",
       "    <tr>\n",
       "      <th>11</th>\n",
       "      <td>dany</td>\n",
       "      <td>queen</td>\n",
       "      <td>name to queen</td>\n",
       "      <td>0.231410</td>\n",
       "      <td>0.292826</td>\n",
       "    </tr>\n",
       "  </tbody>\n",
       "</table>\n",
       "</div>"
      ],
      "text/plain": [
       "      word1  word2 word_relationship  CBOW_score  SG_score\n",
       "0     renly   king      name to king    0.443577  0.306462\n",
       "1       ned   king      name to king    0.212573  0.293069\n",
       "2    robert   king      name to king    0.476130  0.389440\n",
       "3       jon   king      name to king    0.048377  0.231653\n",
       "4    tommen   king      name to king    0.351196  0.314991\n",
       "5   stannis   king      name to king    0.433380  0.434484\n",
       "6     balon   king      name to king    0.204712  0.316766\n",
       "7   viserys   king      name to king    0.204398  0.245253\n",
       "8   joffrey   king      name to king    0.435532  0.413987\n",
       "9     aerys   king      name to king    0.406478  0.245778\n",
       "10   cersei  queen     name to queen    0.405532  0.481459\n",
       "11     dany  queen     name to queen    0.231410  0.292826"
      ]
     },
     "execution_count": 149,
     "metadata": {},
     "output_type": "execute_result"
    }
   ],
   "source": [
    "\n",
    "d = {\"word1\":[],\"word2\":[],\"word_relationship\":[]}\n",
    "d[\"word_relationship\"].append(\"name to king\")\n",
    "d[\"word_relationship\"].append(\"name to king\")\n",
    "d[\"word_relationship\"].append(\"name to king\")\n",
    "d[\"word_relationship\"].append(\"name to king\")\n",
    "d[\"word_relationship\"].append(\"name to king\")\n",
    "d[\"word_relationship\"].append(\"name to king\")\n",
    "d[\"word_relationship\"].append(\"name to king\")\n",
    "d[\"word_relationship\"].append(\"name to king\")\n",
    "d[\"word_relationship\"].append(\"name to king\")\n",
    "d[\"word_relationship\"].append(\"name to king\")\n",
    "\n",
    "d[\"word_relationship\"].append(\"name to queen\")\n",
    "d[\"word_relationship\"].append(\"name to queen\")\n",
    "\n",
    "#pairing characters with king or queen\n",
    "d[\"word1\"].append(\"renly\")\n",
    "d[\"word1\"].append(\"ned\")\n",
    "d[\"word1\"].append(\"robert\")\n",
    "d[\"word1\"].append(\"jon\")\n",
    "d[\"word1\"].append(\"tommen\")\n",
    "d[\"word1\"].append(\"stannis\")\n",
    "d[\"word1\"].append(\"balon\")\n",
    "d[\"word1\"].append(\"viserys\")\n",
    "d[\"word1\"].append(\"joffrey\")\n",
    "d[\"word1\"].append(\"aerys\")\n",
    "\n",
    "d[\"word1\"].append(\"cersei\")\n",
    "d[\"word1\"].append(\"dany\")\n",
    "\n",
    "d[\"word2\"].append(\"king\")\n",
    "d[\"word2\"].append(\"king\")\n",
    "d[\"word2\"].append(\"king\")\n",
    "d[\"word2\"].append(\"king\")\n",
    "d[\"word2\"].append(\"king\")\n",
    "d[\"word2\"].append(\"king\")\n",
    "d[\"word2\"].append(\"king\")\n",
    "d[\"word2\"].append(\"king\")\n",
    "d[\"word2\"].append(\"king\")\n",
    "d[\"word2\"].append(\"king\")\n",
    "\n",
    "d[\"word2\"].append(\"queen\")\n",
    "d[\"word2\"].append(\"queen\")\n",
    "\n",
    "\n",
    "d = pd.DataFrame(data = d)\n",
    "\n",
    "sg_score = []\n",
    "cbow_score = []\n",
    "for ind in range(0,len(d)):\n",
    "    sg_score.append(w2v_SG.similarity(d[\"word1\"][ind],d[\"word2\"][ind]))\n",
    "    cbow_score.append(w2v_CBOW.similarity(d[\"word1\"][ind],d[\"word2\"][ind]))\n",
    "d[\"CBOW_score\"] = cbow_score\n",
    "d[\"SG_score\"] = sg_score\n",
    "\n",
    "d"
   ]
  },
  {
   "cell_type": "markdown",
   "metadata": {},
   "source": [
    "The table above shows the relationship between 12 characters who claimed to be, and were regarded as a king or queen at one point in time throughout the arc of the story. I pair these characters with the word \"king\" or \"queen\" and calculate the pair's cosine similarity score for each model.\n",
    "\n",
    "This output was honestly dissapointing in my mind. I was hoping to be able to see a clear difference in the cosine similarity score between the two models but it is fairly hard to discern any significant difference between the two models.\n"
   ]
  },
  {
   "cell_type": "code",
   "execution_count": 150,
   "metadata": {},
   "outputs": [
    {
     "data": {
      "text/html": [
       "<div>\n",
       "<style scoped>\n",
       "    .dataframe tbody tr th:only-of-type {\n",
       "        vertical-align: middle;\n",
       "    }\n",
       "\n",
       "    .dataframe tbody tr th {\n",
       "        vertical-align: top;\n",
       "    }\n",
       "\n",
       "    .dataframe thead th {\n",
       "        text-align: right;\n",
       "    }\n",
       "</style>\n",
       "<table border=\"1\" class=\"dataframe\">\n",
       "  <thead>\n",
       "    <tr style=\"text-align: right;\">\n",
       "      <th></th>\n",
       "      <th>word1</th>\n",
       "      <th>word2</th>\n",
       "      <th>word_relationship</th>\n",
       "      <th>CBOW_score</th>\n",
       "      <th>SG_score</th>\n",
       "    </tr>\n",
       "  </thead>\n",
       "  <tbody>\n",
       "    <tr>\n",
       "      <th>0</th>\n",
       "      <td>king</td>\n",
       "      <td>protector</td>\n",
       "      <td>similar meaning</td>\n",
       "      <td>0.361959</td>\n",
       "      <td>0.291655</td>\n",
       "    </tr>\n",
       "    <tr>\n",
       "      <th>1</th>\n",
       "      <td>queen</td>\n",
       "      <td>protector</td>\n",
       "      <td>similar meaning</td>\n",
       "      <td>0.320874</td>\n",
       "      <td>0.276222</td>\n",
       "    </tr>\n",
       "    <tr>\n",
       "      <th>2</th>\n",
       "      <td>lord</td>\n",
       "      <td>protector</td>\n",
       "      <td>similar meaning</td>\n",
       "      <td>0.295690</td>\n",
       "      <td>0.317160</td>\n",
       "    </tr>\n",
       "    <tr>\n",
       "      <th>3</th>\n",
       "      <td>lady</td>\n",
       "      <td>protector</td>\n",
       "      <td>similar meaning</td>\n",
       "      <td>0.244024</td>\n",
       "      <td>0.287869</td>\n",
       "    </tr>\n",
       "    <tr>\n",
       "      <th>4</th>\n",
       "      <td>traitor</td>\n",
       "      <td>usurper</td>\n",
       "      <td>similar meaning</td>\n",
       "      <td>0.407236</td>\n",
       "      <td>0.323294</td>\n",
       "    </tr>\n",
       "    <tr>\n",
       "      <th>5</th>\n",
       "      <td>dragon</td>\n",
       "      <td>beast</td>\n",
       "      <td>similar meaning</td>\n",
       "      <td>0.143353</td>\n",
       "      <td>0.177825</td>\n",
       "    </tr>\n",
       "    <tr>\n",
       "      <th>6</th>\n",
       "      <td>ser</td>\n",
       "      <td>knight</td>\n",
       "      <td>similar meaning</td>\n",
       "      <td>0.303647</td>\n",
       "      <td>0.431570</td>\n",
       "    </tr>\n",
       "    <tr>\n",
       "      <th>7</th>\n",
       "      <td>sword</td>\n",
       "      <td>weapon</td>\n",
       "      <td>similar meaning</td>\n",
       "      <td>0.337069</td>\n",
       "      <td>0.304125</td>\n",
       "    </tr>\n",
       "  </tbody>\n",
       "</table>\n",
       "</div>"
      ],
      "text/plain": [
       "     word1      word2 word_relationship  CBOW_score  SG_score\n",
       "0     king  protector   similar meaning    0.361959  0.291655\n",
       "1    queen  protector   similar meaning    0.320874  0.276222\n",
       "2     lord  protector   similar meaning    0.295690  0.317160\n",
       "3     lady  protector   similar meaning    0.244024  0.287869\n",
       "4  traitor    usurper   similar meaning    0.407236  0.323294\n",
       "5   dragon      beast   similar meaning    0.143353  0.177825\n",
       "6      ser     knight   similar meaning    0.303647  0.431570\n",
       "7    sword     weapon   similar meaning    0.337069  0.304125"
      ]
     },
     "execution_count": 150,
     "metadata": {},
     "output_type": "execute_result"
    }
   ],
   "source": [
    "d = {\"word1\":[],\"word2\":[],\"word_relationship\":[]}\n",
    "\n",
    "d[\"word1\"].append(\"king\")\n",
    "d[\"word1\"].append(\"queen\")\n",
    "d[\"word1\"].append(\"lord\")\n",
    "d[\"word1\"].append(\"lady\")\n",
    "d[\"word1\"].append(\"traitor\")\n",
    "d[\"word1\"].append(\"dragon\")\n",
    "d[\"word1\"].append(\"ser\")\n",
    "d[\"word1\"].append(\"sword\")\n",
    "\n",
    "#Often the word \"protector\" is used in the context of \"Protector of the realm\" or \"protector of the land\"\n",
    "d[\"word2\"].append(\"protector\")\n",
    "d[\"word2\"].append(\"protector\")\n",
    "d[\"word2\"].append(\"protector\")\n",
    "d[\"word2\"].append(\"protector\")\n",
    "d[\"word2\"].append(\"usurper\")\n",
    "d[\"word2\"].append(\"beast\")\n",
    "d[\"word2\"].append(\"knight\")\n",
    "d[\"word2\"].append(\"weapon\")\n",
    "\n",
    "\n",
    "d[\"word_relationship\"].append(\"similar meaning\")\n",
    "d[\"word_relationship\"].append(\"similar meaning\")\n",
    "\n",
    "d[\"word_relationship\"].append(\"similar meaning\")\n",
    "d[\"word_relationship\"].append(\"similar meaning\")\n",
    "\n",
    "d[\"word_relationship\"].append(\"similar meaning\")\n",
    "d[\"word_relationship\"].append(\"similar meaning\")\n",
    "d[\"word_relationship\"].append(\"similar meaning\")\n",
    "d[\"word_relationship\"].append(\"similar meaning\")\n",
    "\n",
    "\n",
    "\n",
    "\n",
    "d = pd.DataFrame(data = d)\n",
    "\n",
    "sg_score = []\n",
    "cbow_score = []\n",
    "for ind in range(0,len(d)):\n",
    "    sg_score.append(w2v_SG.similarity(d[\"word1\"][ind],d[\"word2\"][ind]))\n",
    "    cbow_score.append(w2v_CBOW.similarity(d[\"word1\"][ind],d[\"word2\"][ind]))\n",
    "d[\"CBOW_score\"] = cbow_score\n",
    "d[\"SG_score\"] = sg_score\n",
    "\n",
    "d"
   ]
  },
  {
   "cell_type": "markdown",
   "metadata": {},
   "source": [
    "This table is designed to test the semantic ability of each model. However, it appears that there is not a significant difference in the two models relative scores for each pair of words. Perhaps my tests are not the best examples of semantically similar pairs."
   ]
  },
  {
   "cell_type": "code",
   "execution_count": 169,
   "metadata": {},
   "outputs": [
    {
     "data": {
      "text/html": [
       "<div>\n",
       "<style scoped>\n",
       "    .dataframe tbody tr th:only-of-type {\n",
       "        vertical-align: middle;\n",
       "    }\n",
       "\n",
       "    .dataframe tbody tr th {\n",
       "        vertical-align: top;\n",
       "    }\n",
       "\n",
       "    .dataframe thead th {\n",
       "        text-align: right;\n",
       "    }\n",
       "</style>\n",
       "<table border=\"1\" class=\"dataframe\">\n",
       "  <thead>\n",
       "    <tr style=\"text-align: right;\">\n",
       "      <th></th>\n",
       "      <th>word1</th>\n",
       "      <th>word2</th>\n",
       "      <th>word_relationship</th>\n",
       "      <th>CBOW_score</th>\n",
       "      <th>SG_score</th>\n",
       "    </tr>\n",
       "  </thead>\n",
       "  <tbody>\n",
       "    <tr>\n",
       "      <th>0</th>\n",
       "      <td>the</td>\n",
       "      <td>king</td>\n",
       "      <td>neighboring</td>\n",
       "      <td>0.037782</td>\n",
       "      <td>0.411229</td>\n",
       "    </tr>\n",
       "    <tr>\n",
       "      <th>1</th>\n",
       "      <td>the</td>\n",
       "      <td>queen</td>\n",
       "      <td>neighboring</td>\n",
       "      <td>-0.053011</td>\n",
       "      <td>0.314689</td>\n",
       "    </tr>\n",
       "    <tr>\n",
       "      <th>2</th>\n",
       "      <td>the</td>\n",
       "      <td>north</td>\n",
       "      <td>neighboring</td>\n",
       "      <td>0.229588</td>\n",
       "      <td>0.331491</td>\n",
       "    </tr>\n",
       "    <tr>\n",
       "      <th>3</th>\n",
       "      <td>nights</td>\n",
       "      <td>watch</td>\n",
       "      <td>neighboring</td>\n",
       "      <td>0.433855</td>\n",
       "      <td>0.575117</td>\n",
       "    </tr>\n",
       "    <tr>\n",
       "      <th>4</th>\n",
       "      <td>father</td>\n",
       "      <td>said</td>\n",
       "      <td>neighboring</td>\n",
       "      <td>0.138596</td>\n",
       "      <td>0.354438</td>\n",
       "    </tr>\n",
       "    <tr>\n",
       "      <th>5</th>\n",
       "      <td>castle</td>\n",
       "      <td>black</td>\n",
       "      <td>neighboring</td>\n",
       "      <td>0.105444</td>\n",
       "      <td>0.243576</td>\n",
       "    </tr>\n",
       "    <tr>\n",
       "      <th>6</th>\n",
       "      <td>she</td>\n",
       "      <td>slipped</td>\n",
       "      <td>neighboring</td>\n",
       "      <td>-0.002204</td>\n",
       "      <td>0.121547</td>\n",
       "    </tr>\n",
       "    <tr>\n",
       "      <th>7</th>\n",
       "      <td>very</td>\n",
       "      <td>careful</td>\n",
       "      <td>neighboring</td>\n",
       "      <td>0.147424</td>\n",
       "      <td>0.128404</td>\n",
       "    </tr>\n",
       "  </tbody>\n",
       "</table>\n",
       "</div>"
      ],
      "text/plain": [
       "    word1    word2 word_relationship  CBOW_score  SG_score\n",
       "0     the     king       neighboring    0.037782  0.411229\n",
       "1     the    queen       neighboring   -0.053011  0.314689\n",
       "2     the    north       neighboring    0.229588  0.331491\n",
       "3  nights    watch       neighboring    0.433855  0.575117\n",
       "4  father     said       neighboring    0.138596  0.354438\n",
       "5  castle    black       neighboring    0.105444  0.243576\n",
       "6     she  slipped       neighboring   -0.002204  0.121547\n",
       "7    very  careful       neighboring    0.147424  0.128404"
      ]
     },
     "execution_count": 169,
     "metadata": {},
     "output_type": "execute_result"
    }
   ],
   "source": [
    "d = {\"word1\":[],\"word2\":[],\"word_relationship\":[]}\n",
    "\n",
    "d[\"word1\"].append(\"the\")\n",
    "d[\"word1\"].append(\"the\")\n",
    "d[\"word1\"].append(\"the\")\n",
    "d[\"word1\"].append(\"nights\")\n",
    "d[\"word1\"].append(\"father\")\n",
    "d[\"word1\"].append(\"castle\")\n",
    "d[\"word1\"].append(\"she\")\n",
    "d[\"word1\"].append(\"very\")\n",
    "\n",
    "d[\"word2\"].append(\"king\")\n",
    "d[\"word2\"].append(\"queen\")\n",
    "d[\"word2\"].append(\"north\")\n",
    "d[\"word2\"].append(\"watch\")\n",
    "d[\"word2\"].append(\"said\")\n",
    "d[\"word2\"].append(\"black\")\n",
    "d[\"word2\"].append(\"slipped\")\n",
    "d[\"word2\"].append(\"careful\")\n",
    "\n",
    "d[\"word_relationship\"].append(\"neighboring\")\n",
    "d[\"word_relationship\"].append(\"neighboring\")\n",
    "d[\"word_relationship\"].append(\"neighboring\")\n",
    "d[\"word_relationship\"].append(\"neighboring\")\n",
    "d[\"word_relationship\"].append(\"neighboring\")\n",
    "d[\"word_relationship\"].append(\"neighboring\")\n",
    "d[\"word_relationship\"].append(\"neighboring\")\n",
    "d[\"word_relationship\"].append(\"neighboring\")\n",
    "\n",
    "d = pd.DataFrame(data = d)\n",
    "\n",
    "sg_score = []\n",
    "cbow_score = []\n",
    "for ind in range(0,len(d)):\n",
    "    sg_score.append(w2v_SG.similarity(d[\"word1\"][ind],d[\"word2\"][ind]))\n",
    "    cbow_score.append(w2v_CBOW.similarity(d[\"word1\"][ind],d[\"word2\"][ind]))\n",
    "d[\"CBOW_score\"] = cbow_score\n",
    "d[\"SG_score\"] = sg_score\n",
    "\n",
    "d"
   ]
  },
  {
   "cell_type": "markdown",
   "metadata": {},
   "source": [
    "Now it finally appears that there is a noticable difference in the cosine scores of the two models. As we can see, the skip-gram model is much better at recognizing words that are often neighboring each other which the CBOW model is very bad at this."
   ]
  },
  {
   "cell_type": "code",
   "execution_count": 170,
   "metadata": {},
   "outputs": [
    {
     "data": {
      "text/html": [
       "<div>\n",
       "<style scoped>\n",
       "    .dataframe tbody tr th:only-of-type {\n",
       "        vertical-align: middle;\n",
       "    }\n",
       "\n",
       "    .dataframe tbody tr th {\n",
       "        vertical-align: top;\n",
       "    }\n",
       "\n",
       "    .dataframe thead th {\n",
       "        text-align: right;\n",
       "    }\n",
       "</style>\n",
       "<table border=\"1\" class=\"dataframe\">\n",
       "  <thead>\n",
       "    <tr style=\"text-align: right;\">\n",
       "      <th></th>\n",
       "      <th>word1</th>\n",
       "      <th>word2</th>\n",
       "      <th>word_relationship</th>\n",
       "      <th>CBOW_score</th>\n",
       "      <th>SG_score</th>\n",
       "    </tr>\n",
       "  </thead>\n",
       "  <tbody>\n",
       "    <tr>\n",
       "      <th>0</th>\n",
       "      <td>jon</td>\n",
       "      <td>ned</td>\n",
       "      <td>child to parent</td>\n",
       "      <td>0.382781</td>\n",
       "      <td>0.397230</td>\n",
       "    </tr>\n",
       "    <tr>\n",
       "      <th>1</th>\n",
       "      <td>tommen</td>\n",
       "      <td>robert</td>\n",
       "      <td>child to parent</td>\n",
       "      <td>0.431220</td>\n",
       "      <td>0.290297</td>\n",
       "    </tr>\n",
       "    <tr>\n",
       "      <th>2</th>\n",
       "      <td>joffrey</td>\n",
       "      <td>robert</td>\n",
       "      <td>child to parent</td>\n",
       "      <td>0.528063</td>\n",
       "      <td>0.338488</td>\n",
       "    </tr>\n",
       "    <tr>\n",
       "      <th>3</th>\n",
       "      <td>bran</td>\n",
       "      <td>ned</td>\n",
       "      <td>child to parent</td>\n",
       "      <td>0.305260</td>\n",
       "      <td>0.358559</td>\n",
       "    </tr>\n",
       "    <tr>\n",
       "      <th>4</th>\n",
       "      <td>tyrion</td>\n",
       "      <td>tywin</td>\n",
       "      <td>child to parent</td>\n",
       "      <td>0.306590</td>\n",
       "      <td>0.371980</td>\n",
       "    </tr>\n",
       "    <tr>\n",
       "      <th>5</th>\n",
       "      <td>dany</td>\n",
       "      <td>aegon</td>\n",
       "      <td>child to parent</td>\n",
       "      <td>0.015833</td>\n",
       "      <td>0.169024</td>\n",
       "    </tr>\n",
       "  </tbody>\n",
       "</table>\n",
       "</div>"
      ],
      "text/plain": [
       "     word1   word2 word_relationship  CBOW_score  SG_score\n",
       "0      jon     ned   child to parent    0.382781  0.397230\n",
       "1   tommen  robert   child to parent    0.431220  0.290297\n",
       "2  joffrey  robert   child to parent    0.528063  0.338488\n",
       "3     bran     ned   child to parent    0.305260  0.358559\n",
       "4   tyrion   tywin   child to parent    0.306590  0.371980\n",
       "5     dany   aegon   child to parent    0.015833  0.169024"
      ]
     },
     "execution_count": 170,
     "metadata": {},
     "output_type": "execute_result"
    }
   ],
   "source": [
    "d = {\"word1\":[],\"word2\":[],\"word_relationship\":[]}\n",
    "\n",
    "d[\"word1\"].append(\"jon\")\n",
    "d[\"word1\"].append(\"tommen\")\n",
    "d[\"word1\"].append(\"joffrey\")\n",
    "d[\"word1\"].append(\"bran\")\n",
    "d[\"word1\"].append(\"tyrion\")\n",
    "d[\"word1\"].append(\"dany\")\n",
    "\n",
    "d[\"word2\"].append(\"ned\")\n",
    "d[\"word2\"].append(\"robert\")\n",
    "d[\"word2\"].append(\"robert\")\n",
    "d[\"word2\"].append(\"ned\")\n",
    "d[\"word2\"].append(\"tywin\")\n",
    "d[\"word2\"].append(\"aegon\")\n",
    "\n",
    "d[\"word_relationship\"].append(\"child to parent\")\n",
    "d[\"word_relationship\"].append(\"child to parent\")\n",
    "d[\"word_relationship\"].append(\"child to parent\")\n",
    "d[\"word_relationship\"].append(\"child to parent\")\n",
    "d[\"word_relationship\"].append(\"child to parent\")\n",
    "d[\"word_relationship\"].append(\"child to parent\")\n",
    "\n",
    "d = pd.DataFrame(data = d)\n",
    "\n",
    "sg_score = []\n",
    "cbow_score = []\n",
    "for ind in range(0,len(d)):\n",
    "    sg_score.append(w2v_SG.similarity(d[\"word1\"][ind],d[\"word2\"][ind]))\n",
    "    cbow_score.append(w2v_CBOW.similarity(d[\"word1\"][ind],d[\"word2\"][ind]))\n",
    "d[\"CBOW_score\"] = cbow_score\n",
    "d[\"SG_score\"] = sg_score\n",
    "\n",
    "d"
   ]
  },
  {
   "cell_type": "markdown",
   "metadata": {},
   "source": [
    "In this table I explore the scores for pairs of words of a child and a parent. I was honestly not expecting much from this test but I was surprised that the scores were as high as they are. I suppose that there are often sentences where a child and a parent are referenced together or talking with each other so I expect this inflated the score."
   ]
  },
  {
   "cell_type": "code",
   "execution_count": 157,
   "metadata": {},
   "outputs": [
    {
     "data": {
      "text/html": [
       "<div>\n",
       "<style scoped>\n",
       "    .dataframe tbody tr th:only-of-type {\n",
       "        vertical-align: middle;\n",
       "    }\n",
       "\n",
       "    .dataframe tbody tr th {\n",
       "        vertical-align: top;\n",
       "    }\n",
       "\n",
       "    .dataframe thead th {\n",
       "        text-align: right;\n",
       "    }\n",
       "</style>\n",
       "<table border=\"1\" class=\"dataframe\">\n",
       "  <thead>\n",
       "    <tr style=\"text-align: right;\">\n",
       "      <th></th>\n",
       "      <th>word1</th>\n",
       "      <th>word2</th>\n",
       "      <th>word_relationship</th>\n",
       "      <th>CBOW_score</th>\n",
       "      <th>SG_score</th>\n",
       "    </tr>\n",
       "  </thead>\n",
       "  <tbody>\n",
       "    <tr>\n",
       "      <th>0</th>\n",
       "      <td>jon</td>\n",
       "      <td>snow</td>\n",
       "      <td>first to last name</td>\n",
       "      <td>0.376058</td>\n",
       "      <td>0.517674</td>\n",
       "    </tr>\n",
       "    <tr>\n",
       "      <th>1</th>\n",
       "      <td>tommen</td>\n",
       "      <td>baratheon</td>\n",
       "      <td>first to last name</td>\n",
       "      <td>0.303414</td>\n",
       "      <td>0.291781</td>\n",
       "    </tr>\n",
       "    <tr>\n",
       "      <th>2</th>\n",
       "      <td>joffrey</td>\n",
       "      <td>baratheon</td>\n",
       "      <td>first to last name</td>\n",
       "      <td>0.303289</td>\n",
       "      <td>0.339293</td>\n",
       "    </tr>\n",
       "    <tr>\n",
       "      <th>3</th>\n",
       "      <td>bran</td>\n",
       "      <td>stark</td>\n",
       "      <td>first to last name</td>\n",
       "      <td>0.258739</td>\n",
       "      <td>0.305504</td>\n",
       "    </tr>\n",
       "    <tr>\n",
       "      <th>4</th>\n",
       "      <td>tyrion</td>\n",
       "      <td>lannister</td>\n",
       "      <td>first to last name</td>\n",
       "      <td>0.207107</td>\n",
       "      <td>0.337168</td>\n",
       "    </tr>\n",
       "    <tr>\n",
       "      <th>5</th>\n",
       "      <td>dany</td>\n",
       "      <td>targaryen</td>\n",
       "      <td>first to last name</td>\n",
       "      <td>0.176088</td>\n",
       "      <td>0.235125</td>\n",
       "    </tr>\n",
       "  </tbody>\n",
       "</table>\n",
       "</div>"
      ],
      "text/plain": [
       "     word1      word2   word_relationship  CBOW_score  SG_score\n",
       "0      jon       snow  first to last name    0.376058  0.517674\n",
       "1   tommen  baratheon  first to last name    0.303414  0.291781\n",
       "2  joffrey  baratheon  first to last name    0.303289  0.339293\n",
       "3     bran      stark  first to last name    0.258739  0.305504\n",
       "4   tyrion  lannister  first to last name    0.207107  0.337168\n",
       "5     dany  targaryen  first to last name    0.176088  0.235125"
      ]
     },
     "execution_count": 157,
     "metadata": {},
     "output_type": "execute_result"
    }
   ],
   "source": [
    "d = {\"word1\":[],\"word2\":[],\"word_relationship\":[]}\n",
    "\n",
    "d[\"word1\"].append(\"jon\")\n",
    "d[\"word1\"].append(\"tommen\")\n",
    "d[\"word1\"].append(\"joffrey\")\n",
    "d[\"word1\"].append(\"bran\")\n",
    "d[\"word1\"].append(\"tyrion\")\n",
    "d[\"word1\"].append(\"dany\")\n",
    "\n",
    "d[\"word2\"].append(\"snow\")\n",
    "d[\"word2\"].append(\"baratheon\")\n",
    "d[\"word2\"].append(\"baratheon\")\n",
    "d[\"word2\"].append(\"stark\")\n",
    "d[\"word2\"].append(\"lannister\")\n",
    "d[\"word2\"].append(\"targaryen\")\n",
    "\n",
    "d[\"word_relationship\"].append(\"first to last name\")\n",
    "d[\"word_relationship\"].append(\"first to last name\")\n",
    "d[\"word_relationship\"].append(\"first to last name\")\n",
    "d[\"word_relationship\"].append(\"first to last name\")\n",
    "d[\"word_relationship\"].append(\"first to last name\")\n",
    "d[\"word_relationship\"].append(\"first to last name\")\n",
    "\n",
    "d = pd.DataFrame(data = d)\n",
    "\n",
    "sg_score = []\n",
    "cbow_score = []\n",
    "for ind in range(0,len(d)):\n",
    "    sg_score.append(w2v_SG.similarity(d[\"word1\"][ind],d[\"word2\"][ind]))\n",
    "    cbow_score.append(w2v_CBOW.similarity(d[\"word1\"][ind],d[\"word2\"][ind]))\n",
    "d[\"CBOW_score\"] = cbow_score\n",
    "d[\"SG_score\"] = sg_score\n",
    "\n",
    "d"
   ]
  },
  {
   "cell_type": "markdown",
   "metadata": {},
   "source": [
    "Again, I see a significant difference in the two models cosine scores. The skip gram model gives higher cosine similarity scores to the first to last name than the CBOW model does. As I mentioned before, this suggests that skip-gram is better at recognizing neighboring ideas because the text would often refer to characters as \"Jon Snow\" or \"Bran Stark\" etc."
   ]
  },
  {
   "cell_type": "markdown",
   "metadata": {},
   "source": [
    "## T-SNE visualization"
   ]
  },
  {
   "cell_type": "code",
   "execution_count": 112,
   "metadata": {},
   "outputs": [],
   "source": [
    "import seaborn as sns\n",
    "sns.set_style(\"darkgrid\")\n",
    "\n",
    "from sklearn.decomposition import PCA\n",
    "from sklearn.manifold import TSNE"
   ]
  },
  {
   "cell_type": "markdown",
   "metadata": {},
   "source": [
    "I then wanted to look at some better visualizations of the data to help me learn more about how well the models are working. I found a function from the site https://www.kaggle.com/pierremegret/gensim-word2vec-tutorial that creates a nice t-SNE visualization. T-SNE scales quadractically with the number of objects inputted so since my dataset was relatively small, I figured I could perform this fairly quickly. "
   ]
  },
  {
   "cell_type": "code",
   "execution_count": 183,
   "metadata": {},
   "outputs": [],
   "source": [
    "def tsnescatterplot(model, word, list_names):\n",
    "    \"\"\" Plot in seaborn the results from the t-SNE dimensionality reduction algorithm of the vectors of a query word,\n",
    "    its list of most similar words, and a list of words.\n",
    "    \"\"\"\n",
    "    arrays = np.empty((0, 300), dtype='f')\n",
    "    word_labels = [word]\n",
    "    color_list  = ['red']\n",
    "\n",
    "    # adds the vector of the query word\n",
    "    arrays = np.append(arrays, model.wv.__getitem__([word]), axis=0)\n",
    "    \n",
    "    # gets list of most similar words\n",
    "    close_words = model.wv.most_similar([word], topn = 20)\n",
    "    \n",
    "    # adds the vector for each of the closest words to the array\n",
    "    for wrd_score in close_words:\n",
    "        wrd_vector = model.wv.__getitem__([wrd_score[0]])\n",
    "        word_labels.append(wrd_score[0])\n",
    "        color_list.append('blue')\n",
    "        arrays = np.append(arrays, wrd_vector, axis=0)\n",
    "    \n",
    "    # adds the vector for each of the words from list_names to the array\n",
    "    for wrd in list_names:\n",
    "        wrd_vector = model.wv.__getitem__([wrd])\n",
    "        word_labels.append(wrd)\n",
    "        color_list.append('green')\n",
    "        arrays = np.append(arrays, wrd_vector, axis=0)\n",
    "        \n",
    "    reduc = PCA(n_components=20).fit_transform(arrays)\n",
    "    \n",
    "    # Finds t-SNE coordinates for 2 dimensions\n",
    "    np.set_printoptions(suppress=True)\n",
    "    \n",
    "    Y = TSNE(n_components=2, random_state=0, perplexity=15).fit_transform(reduc)\n",
    "    \n",
    "    # Sets everything up to plot\n",
    "    df = pd.DataFrame({'x': [x for x in Y[:, 0]],\n",
    "                       'y': [y for y in Y[:, 1]],\n",
    "                       'words': word_labels,\n",
    "                       'color': color_list})\n",
    "    \n",
    "    fig, _ = plt.subplots()\n",
    "    fig.set_size_inches(9, 9)\n",
    "    \n",
    "    # Basic plot\n",
    "    p1 = sns.regplot(data=df,\n",
    "                     x=\"x\",\n",
    "                     y=\"y\",\n",
    "                     fit_reg=False,\n",
    "                     marker=\"o\",\n",
    "                     scatter_kws={'s': 30,\n",
    "                                  'facecolors': df['color']\n",
    "                                 }\n",
    "                    )\n",
    "    \n",
    "    # Adds annotations one by one with a loop\n",
    "    for line in range(0, df.shape[0]):\n",
    "         p1.text(df[\"x\"][line],\n",
    "                 df['y'][line],\n",
    "                 '  ' + df[\"words\"][line],\n",
    "                 horizontalalignment='left',\n",
    "                 verticalalignment='bottom', size='medium',\n",
    "                 color=df['color'][line],\n",
    "                 weight='normal'\n",
    "                ).set_size(10)\n",
    "\n",
    "    \n",
    "    plt.xlim(Y[:, 0].min()-50, Y[:, 0].max()+50)\n",
    "    plt.ylim(Y[:, 1].min()-50, Y[:, 1].max()+50)\n",
    "            \n",
    "    plt.title('t-SNE visualization for {}'.format(word.title()))\n",
    "    "
   ]
  },
  {
   "cell_type": "markdown",
   "metadata": {},
   "source": [
    "First I will look at the top 20 words most similar to \"king\" plotted with the top 20 which are least similar. The green words are those which are most unsimilar from \"king\" while the blue are those most similar."
   ]
  },
  {
   "cell_type": "code",
   "execution_count": 184,
   "metadata": {},
   "outputs": [
    {
     "data": {
      "image/png": "[encoded data removed]",
      "text/plain": [
       "<Figure size 648x648 with 1 Axes>"
      ]
     },
     "metadata": {},
     "output_type": "display_data"
    }
   ],
   "source": [
    "tsnescatterplot(w2v_SG, 'king',[i[0] for i in w2v_SG.wv.most_similar(negative=[\"king\"], topn = 20)])"
   ]
  },
  {
   "cell_type": "code",
   "execution_count": 185,
   "metadata": {},
   "outputs": [
    {
     "data": {
      "image/png": "[encoded data removed]",
      "text/plain": [
       "<Figure size 648x648 with 1 Axes>"
      ]
     },
     "metadata": {},
     "output_type": "display_data"
    }
   ],
   "source": [
    "tsnescatterplot(w2v_CBOW, 'king',[i[0] for i in w2v_CBOW.wv.most_similar(negative=[\"king\"],topn = 20)])"
   ]
  },
  {
   "cell_type": "markdown",
   "metadata": {},
   "source": [
    "While these plots clearly show the two clumps vary drastically from each other, it was again difficult to differentiate between the two models. I was happy to see how unrelated the words in the green clumps were from \"king\" though."
   ]
  },
  {
   "cell_type": "markdown",
   "metadata": {},
   "source": [
    "I was also curious to see if there would be an effect of the frequency of the words in the above plot. It seemed fairly obvious that names of kings such as \"Joffrey\", \"Robert\", and \"Daeron\" as well as common words such as \"Queen\" and \"Rebellion\" would occur with a higher frequency than words such as \"Lip\" or \"Bark\" so I wanted to explore this idea."
   ]
  },
  {
   "cell_type": "code",
   "execution_count": 187,
   "metadata": {},
   "outputs": [
    {
     "name": "stdout",
     "output_type": "stream",
     "text": [
      "Count for ii : 30\n",
      "Count for queen : 1646\n",
      "Count for stannis : 1132\n",
      "Count for father : 2157\n",
      "Count for grandson : 27\n",
      "Count for he : 27826\n",
      "Count for lawful : 24\n",
      "Count for joffrey : 729\n",
      "Count for the : 104524\n",
      "Count for jaehaerys : 28\n",
      "Total sum of words above: 138123\n"
     ]
    }
   ],
   "source": [
    "#counts for words similar with \"king\" for skip-gram\n",
    "sum = 0\n",
    "for i in [j for j in w2v_SG.wv.most_similar(positive=[\"king\"])]:\n",
    "    print(\"Count for\",i[0],\":\", word_counter[i[0]])\n",
    "    sum+=word_counter[i[0]]\n",
    "print(\"Total sum of words above:\",sum)"
   ]
  },
  {
   "cell_type": "code",
   "execution_count": 189,
   "metadata": {},
   "outputs": [
    {
     "name": "stdout",
     "output_type": "stream",
     "text": [
      "Count for greasy : 34\n",
      "Count for glimpsed : 114\n",
      "Count for toes : 84\n",
      "Count for peering : 38\n",
      "Count for branches : 127\n",
      "Count for roll : 46\n",
      "Count for sleeves : 47\n",
      "Count for strings : 30\n",
      "Count for hours : 147\n",
      "Count for shut : 133\n",
      "Total sum of words above: 800\n"
     ]
    }
   ],
   "source": [
    "#counts for words not similar with \"king\" for skip-gram\n",
    "sum = 0\n",
    "for i in [j for j in w2v_SG.wv.most_similar(negative=[\"king\"])]:\n",
    "    print(\"Count for\",i[0],\":\", word_counter[i[0]])\n",
    "    sum+=word_counter[i[0]]\n",
    "print(\"Total sum of words above:\",sum)"
   ]
  },
  {
   "cell_type": "code",
   "execution_count": 190,
   "metadata": {},
   "outputs": [
    {
     "name": "stdout",
     "output_type": "stream",
     "text": [
      "Count for ii : 30\n",
      "Count for rightful : 69\n",
      "Count for baratheon : 359\n",
      "Count for rebel : 23\n",
      "Count for robert : 928\n",
      "Count for traitor : 100\n",
      "Count for grandson : 27\n",
      "Count for usurper : 62\n",
      "Count for jaehaerys : 28\n",
      "Count for rebellion : 75\n",
      "Total sum of words above: 1701\n"
     ]
    }
   ],
   "source": [
    "#counts for words similar with \"king\" for CBOW\n",
    "sum = 0\n",
    "for i in [j for j in w2v_CBOW.wv.most_similar(positive=[\"king\"])]:\n",
    "    print(\"Count for\",i[0],\":\", word_counter[i[0]])\n",
    "    sum+=word_counter[i[0]]\n",
    "print(\"Total sum of words above:\",sum)"
   ]
  },
  {
   "cell_type": "code",
   "execution_count": 191,
   "metadata": {},
   "outputs": [
    {
     "name": "stdout",
     "output_type": "stream",
     "text": [
      "Count for concealed : 30\n",
      "Count for dirty : 47\n",
      "Count for tangled : 72\n",
      "Count for splashing : 30\n",
      "Count for greasy : 34\n",
      "Count for chewing : 32\n",
      "Count for glistening : 29\n",
      "Count for smelling : 20\n",
      "Count for slipping : 33\n",
      "Count for knots : 20\n",
      "Total sum of words above: 347\n"
     ]
    }
   ],
   "source": [
    "#counts for words not similar with \"king\" for CBOW\n",
    "sum = 0\n",
    "for i in [j for j in w2v_CBOW.wv.most_similar(negative=[\"king\"])]:\n",
    "    print(\"Count for\",i[0],\":\", word_counter[i[0]])\n",
    "    sum+=word_counter[i[0]]\n",
    "print(\"Total sum of words above:\",sum)"
   ]
  },
  {
   "cell_type": "markdown",
   "metadata": {},
   "source": [
    "As I had suspected the frequency of words most similar with \"king\" is far greater than those least similar with \"king\" for both the skip-gram and the CBOW models. The obvious question is then \"how much does the model attribute similarity due to the frequency of the word pairs?\". This is a question that I am not sure I can answer quantitatively with the tools at my disposal. However, from a qualitivative standpoint, it makes sense that since \"king\" is used so much, the words most similar to it would likely be used frequently as well. To see if the relationship holds for words used infrequently, I will look at words most similar to some of those that are very unsimilar to \"king\""
   ]
  },
  {
   "cell_type": "code",
   "execution_count": 192,
   "metadata": {},
   "outputs": [
    {
     "name": "stdout",
     "output_type": "stream",
     "text": [
      "Count for toe : 35\n",
      "Count for kegs : 24\n",
      "Count for ribs : 59\n",
      "Count for jack : 36\n",
      "Count for forearm : 27\n",
      "Count for dirk : 91\n",
      "Count for shirt : 41\n",
      "Count for string : 31\n",
      "Count for mully : 41\n",
      "Count for halfhelm : 25\n",
      "Total sum of words above: 410\n"
     ]
    }
   ],
   "source": [
    "#counts for words similar with \"boot\" for skip-gram\n",
    "sum = 0\n",
    "for i in [j for j in w2v_SG.wv.most_similar(positive=[\"boot\"])]:\n",
    "    print(\"Count for\",i[0],\":\", word_counter[i[0]])\n",
    "    sum+=word_counter[i[0]]\n",
    "print(\"Total sum of words above:\",sum)"
   ]
  },
  {
   "cell_type": "code",
   "execution_count": 194,
   "metadata": {},
   "outputs": [
    {
     "name": "stdout",
     "output_type": "stream",
     "text": [
      "Count for perished : 37\n",
      "Count for betrayed : 77\n",
      "Count for wears : 29\n",
      "Count for crowned : 111\n",
      "Count for undying : 31\n",
      "Count for occupied : 26\n",
      "Count for galare : 27\n",
      "Count for galazza : 23\n",
      "Count for raising : 41\n",
      "Count for greatest : 36\n",
      "Total sum of words above: 438\n"
     ]
    }
   ],
   "source": [
    "#counts for words least similar with \"boot\" for skip-gram\n",
    "sum = 0\n",
    "for i in [j for j in w2v_SG.wv.most_similar(negative=[\"boot\"])]:\n",
    "    print(\"Count for\",i[0],\":\", word_counter[i[0]])\n",
    "    sum+=word_counter[i[0]]\n",
    "print(\"Total sum of words above:\",sum)"
   ]
  },
  {
   "cell_type": "code",
   "execution_count": 195,
   "metadata": {},
   "outputs": [
    {
     "name": "stdout",
     "output_type": "stream",
     "text": [
      "Count for toe : 35\n",
      "Count for ribs : 59\n",
      "Count for kegs : 24\n",
      "Count for forearm : 27\n",
      "Count for heel : 66\n",
      "Count for gloves : 81\n",
      "Count for jerkin : 55\n",
      "Count for glove : 53\n",
      "Count for mully : 41\n",
      "Count for nails : 43\n",
      "Total sum of words above: 484\n"
     ]
    }
   ],
   "source": [
    "#counts for words similar with \"boot\" for CBOW\n",
    "sum = 0\n",
    "for i in [j for j in w2v_CBOW.wv.most_similar(positive=[\"boot\"])]:\n",
    "    print(\"Count for\",i[0],\":\", word_counter[i[0]])\n",
    "    sum+=word_counter[i[0]]\n",
    "print(\"Total sum of words above:\",sum)"
   ]
  },
  {
   "cell_type": "code",
   "execution_count": 196,
   "metadata": {},
   "outputs": [
    {
     "name": "stdout",
     "output_type": "stream",
     "text": [
      "Count for greatest : 36\n",
      "Count for restore : 39\n",
      "Count for qarth : 126\n",
      "Count for —their : 48\n",
      "Count for —her : 48\n",
      "Count for returns : 42\n",
      "Count for stormborn : 30\n",
      "Count for oppose : 22\n",
      "Count for peril : 28\n",
      "Count for sacked : 26\n",
      "Total sum of words above: 445\n"
     ]
    }
   ],
   "source": [
    "#counts for words least similar with \"boot\" for CBOW\n",
    "sum = 0\n",
    "for i in [j for j in w2v_CBOW.wv.most_similar(negative=[\"boot\"])]:\n",
    "    print(\"Count for\",i[0],\":\", word_counter[i[0]])\n",
    "    sum+=word_counter[i[0]]\n",
    "print(\"Total sum of words above:\",sum)"
   ]
  },
  {
   "cell_type": "markdown",
   "metadata": {},
   "source": [
    "There is not a ton of analysis I can add to the above 4 cells. It seems to be pretty clear that the frequency of the words most similar to \"boot\" is about the same as those least similar to \"boot\" according to each model. My idea that there might be a relationship between the positive similarity and frequency of words seems to be wrong. It does appear that the models have correctly identified words similar and not similar to boot though when looking at this list. The words most similar are often either body parts, or clothes to put on these body parts. The words least similar are pretty random and do appear to have no relationship to \"boot\"."
   ]
  },
  {
   "cell_type": "markdown",
   "metadata": {},
   "source": [
    "## Final thoughts\n",
    "This was a very interesting exploration of the data and the differences between the skip-gram model and the CBOW model. It seems to me that the two models did in fact work pretty well in identifying words that are similar to other words as well as ones that are not similar at all. In addition, the models were able to give relatively high cosine similarity scores for the variety of word pairs I provided each model. I was a little dissapointed in this area to not see as much of a difference between the two models scores because as we learned in class, the CBOW model is generally better at syntactic classification while the skip-gram is better at semantic classification. I was reluctanct to mention this in my above analysis of the word pairs because it did not appear that I could accurately, with no bias, state that the models differed in their semantic/syntactic analysis. \n",
    "\n",
    "Perhaps my tests were poor examples to show the models differences, perhaps the dataset was too small in order to significantly realize theses similarities, or perhaps in my training I did not do enough epochs to properly train the data. If I were to do furhter analysis I would like to find a much larger data set and be able to run many more epochs when training the models before analyzing the data and performance of the models."
   ]
  },
  {
   "cell_type": "code",
   "execution_count": null,
   "metadata": {},
   "outputs": [],
   "source": []
  }
 ],
 "metadata": {
  "kernelspec": {
   "display_name": "Python 3",
   "language": "python",
   "name": "python3"
  },
  "language_info": {
   "codemirror_mode": {
    "name": "ipython",
    "version": 3
   },
   "file_extension": ".py",
   "mimetype": "text/x-python",
   "name": "python",
   "nbconvert_exporter": "python",
   "pygments_lexer": "ipython3",
   "version": "3.7.4"
  }
 },
 "nbformat": 4,
 "nbformat_minor": 4
}
